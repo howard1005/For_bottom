{
 "cells": [
  {
   "cell_type": "code",
   "execution_count": 6,
   "metadata": {},
   "outputs": [],
   "source": [
    "import requests\n",
    "from functools import reduce"
   ]
  },
  {
   "cell_type": "code",
   "execution_count": 43,
   "metadata": {},
   "outputs": [
    {
     "name": "stdout",
     "output_type": "stream",
     "text": [
      "['Aatrox', 'Ekko', 'Jinx', 'Missfortune', 'Shen', 'Varus', 'Ahri', 'Elise', 'Kalista', 'Mordekaiser', 'Shyvana', 'Vayne', 'Akali', 'Evelynn', 'Karma', 'Morgana', 'Singed', 'Veigar', 'Alistar', 'Ezreal', 'Karthus', 'Nami', 'Sion', 'Velkoz', 'Amumu', 'Fiddlesticks', 'Kassadin', 'Nasus', 'Sivir', 'Vi', 'Anivia', 'Fiora', 'Katarina', 'Nautilus', 'Skarner', 'Viktor', 'Annie', 'Fizz', 'Kayle', 'Nidalee', 'Sona', 'Vladimir', 'Ashe', 'Galio', 'Kennen', 'Nocturne', 'Soraka', 'Volibear', 'Aurelionsol', 'Gangplank', 'Khazix', 'Nunu', 'Swain', 'Warwick', 'Azir', 'Garen', 'Kindred', 'Olaf', 'Syndra', 'Wukong', 'Bard', 'Gnar', 'Kled', 'Orianna', 'Tahmkench', 'Xerath', 'Blitzcrank', 'Gragas', 'Kogmaw', 'Pantheon', 'Taliyah', 'XinZhao', 'Brand', 'Graves', 'LeBlanc', 'Poppy', 'Talon', 'Yasuo', 'Braum', 'Hecarim', 'Leesin', 'Quinn', 'Taric', 'Yorick', 'Caitlyn', 'Heimerdinger', 'Leona', 'Rammus', 'Teemo', 'Zac', 'Camille', 'Illaoi', 'Lissandra', 'Reksai', 'Thresh', 'Zed', 'Cassiopeia', 'Irelia', 'Lucian', 'Renekton', 'Tristana', 'Ziggs', 'Chogath', 'Ivern', 'Lulu', 'Rengar', 'Trundle', 'Zilean', 'Corki', 'Janna', 'Lux', 'Riven', 'Tryndamere', 'Zyra', 'Darius', 'JarvanIV', 'Malphite', 'Rumble', 'TwistedFate', '', 'Diana', 'Jax', 'Malzahar', 'Ryze', 'Twitch', '', 'Drmundo', 'Jayce', 'Maokai', 'Sejuani', 'Udyr', '', 'Draven', 'Jhin', 'MasterYi', 'Shaco', 'Urgot', '', '']\n"
     ]
    }
   ],
   "source": [
    "champion_names = reduce(lambda x,y:x+'\\t'+y,\"\"\"Aatrox\tEkko\tJinx\tMissFortune\tShen\tVarus\n",
    "Ahri\tElise\tKalista\tMordekaiser\tShyvana\tVayne\n",
    "Akali\tEvelynn\tKarma\tMorgana\tSinged\tVeigar\n",
    "Alistar\tEzreal\tKarthus\tNami\tSion\tVelkoz\n",
    "Amumu\tFiddlesticks\tKassadin\tNasus\tSivir\tVi\n",
    "Anivia\tFiora\tKatarina\tNautilus\tSkarner\tViktor\n",
    "Annie\tFizz\tKayle\tNidalee\tSona\tVladimir\n",
    "Ashe\tGalio\tKennen\tNocturne\tSoraka\tVolibear\n",
    "AurelionSol\tGangplank\tKhazix\tNunu\tSwain\tWarwick\n",
    "Azir\tGaren\tKindred\tOlaf\tSyndra\tMonkeyKing\n",
    "Bard\tGnar\tKled\tOrianna\tTahmKench\tXerath\n",
    "Blitzcrank\tGragas\tKogMaw\tPantheon\tTaliyah\tXinZhao\n",
    "Brand\tGraves\tLeblanc\tPoppy\tTalon\tYasuo\n",
    "Braum\tHecarim\tLeeSin\tQuinn\tTaric\tYorick\n",
    "Caitlyn\tHeimerdinger\tLeona\tRammus\tTeemo\tZac\n",
    "Camille\tIllaoi\tLissandra\tRekSai\tThresh\tZed\n",
    "Cassiopeia\tIrelia\tLucian\tRenekton\tTristana\tZiggs\n",
    "Chogath\tIvern\tLulu\tRengar\tTrundle\tZilean\n",
    "Corki\tJanna\tLux\tRiven\tTryndamere\tZyra\n",
    "Darius\tJarvanIV\tMalphite\tRumble\tTwistedFate\t\n",
    "Diana\tJax\tMalzahar\tRyze\tTwitch\t\n",
    "DrMundo\tJayce\tMaokai\tSejuani\tUdyr\t\n",
    "Draven\tJhin\tMasterYi\tShaco\tUrgot\t\n",
    "\"\"\".split(\"\\n\")).split(\"\\t\")\n",
    "print(champion_names)"
   ]
  },
  {
   "cell_type": "code",
   "execution_count": 44,
   "metadata": {},
   "outputs": [],
   "source": [
    "user_agent = 'Mozilla/5.0 (Windows NT 10.0; Win64; x64) AppleWebKit/537.36 (KHTML, like Gecko) Chrome/96.0.4664.45 Safari/537.36'\n",
    "headers = {'User-Agent': user_agent}\n",
    "\n",
    "for champion_name in champion_names:\n",
    "    if champion_name:\n",
    "        r = requests.get(\"https://ddragon.leagueoflegends.com/cdn/11.24.1/img/champion/{}.png\".format(champion_name), headers=headers)\n",
    "        img = open('./imgs/{}.png'.format(champion_name),'wb')\n",
    "        img.write(r.content)\n",
    "        img.close()"
   ]
  }
 ],
 "metadata": {
  "interpreter": {
   "hash": "767d51c1340bd893661ea55ea3124f6de3c7a262a8b4abca0554b478b1e2ff90"
  },
  "kernelspec": {
   "display_name": "Python 3.8.0 64-bit",
   "language": "python",
   "name": "python3"
  },
  "language_info": {
   "codemirror_mode": {
    "name": "ipython",
    "version": 3
   },
   "file_extension": ".py",
   "mimetype": "text/x-python",
   "name": "python",
   "nbconvert_exporter": "python",
   "pygments_lexer": "ipython3",
   "version": "3.8.0"
  },
  "orig_nbformat": 4
 },
 "nbformat": 4,
 "nbformat_minor": 2
}
